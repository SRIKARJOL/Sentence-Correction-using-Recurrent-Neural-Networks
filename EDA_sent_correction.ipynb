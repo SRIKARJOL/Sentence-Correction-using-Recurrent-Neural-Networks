{
 "cells": [
  {
   "cell_type": "code",
   "execution_count": null,
   "metadata": {
    "colab": {
     "base_uri": "https://localhost:8080/"
    },
    "id": "7yid0WTVI-V5",
    "outputId": "cad6e1db-d153-405b-f846-6548f14b9e0e"
   },
   "outputs": [
    {
     "name": "stdout",
     "output_type": "stream",
     "text": [
      "[nltk_data] Downloading package stopwords to /root/nltk_data...\n",
      "[nltk_data]   Package stopwords is already up-to-date!\n"
     ]
    }
   ],
   "source": [
    "import numpy as np\n",
    "import pandas as pd\n",
    "import seaborn as sns\n",
    "import matplotlib as plt\n",
    "import warnings\n",
    "warnings.filterwarnings(\"ignore\")\n",
    "import nltk\n",
    "nltk.download('stopwords')\n",
    "from nltk.corpus import stopwords\n",
    "stop_words=set(stopwords.words('english'))"
   ]
  },
  {
   "cell_type": "code",
   "execution_count": null,
   "metadata": {
    "colab": {
     "base_uri": "https://localhost:8080/",
     "height": 203
    },
    "id": "kR4ytOlnJQb5",
    "outputId": "ec0f9aa9-0906-46dd-f844-c42e157e6362"
   },
   "outputs": [
    {
     "data": {
      "text/html": [
       "<div>\n",
       "<style scoped>\n",
       "    .dataframe tbody tr th:only-of-type {\n",
       "        vertical-align: middle;\n",
       "    }\n",
       "\n",
       "    .dataframe tbody tr th {\n",
       "        vertical-align: top;\n",
       "    }\n",
       "\n",
       "    .dataframe thead th {\n",
       "        text-align: right;\n",
       "    }\n",
       "</style>\n",
       "<table border=\"1\" class=\"dataframe\">\n",
       "  <thead>\n",
       "    <tr style=\"text-align: right;\">\n",
       "      <th></th>\n",
       "      <th>SMS_TEXT</th>\n",
       "      <th>ENGLISH_TEXT</th>\n",
       "    </tr>\n",
       "  </thead>\n",
       "  <tbody>\n",
       "    <tr>\n",
       "      <th>0</th>\n",
       "      <td>﻿U wan me to \"chop\" seat 4 u nt?</td>\n",
       "      <td>Do you want me to reserve seat for you or not?</td>\n",
       "    </tr>\n",
       "    <tr>\n",
       "      <th>1</th>\n",
       "      <td>Yup. U reaching. We order some durian pastry a...</td>\n",
       "      <td>Yeap. You reaching? We ordered some Durian pas...</td>\n",
       "    </tr>\n",
       "    <tr>\n",
       "      <th>2</th>\n",
       "      <td>They become more ex oredi... Mine is like 25.....</td>\n",
       "      <td>They become more expensive already. Mine is li...</td>\n",
       "    </tr>\n",
       "    <tr>\n",
       "      <th>3</th>\n",
       "      <td>I'm thai. what do u do?</td>\n",
       "      <td>I'm Thai. What do you do?</td>\n",
       "    </tr>\n",
       "    <tr>\n",
       "      <th>4</th>\n",
       "      <td>Hi! How did your week go? Haven heard from you...</td>\n",
       "      <td>Hi! How did your week go? Haven't heard from y...</td>\n",
       "    </tr>\n",
       "  </tbody>\n",
       "</table>\n",
       "</div>"
      ],
      "text/plain": [
       "                                            SMS_TEXT                                       ENGLISH_TEXT\n",
       "0                   ﻿U wan me to \"chop\" seat 4 u nt?     Do you want me to reserve seat for you or not?\n",
       "1  Yup. U reaching. We order some durian pastry a...  Yeap. You reaching? We ordered some Durian pas...\n",
       "2  They become more ex oredi... Mine is like 25.....  They become more expensive already. Mine is li...\n",
       "3                            I'm thai. what do u do?                          I'm Thai. What do you do?\n",
       "4  Hi! How did your week go? Haven heard from you...  Hi! How did your week go? Haven't heard from y..."
      ]
     },
     "execution_count": 35,
     "metadata": {
      "tags": []
     },
     "output_type": "execute_result"
    }
   ],
   "source": [
    "data = pd.read_csv(\"/content/prepared_data.csv\")\n",
    "data.head()"
   ]
  },
  {
   "cell_type": "markdown",
   "metadata": {
    "id": "nN6HxTdFYsUa"
   },
   "source": [
    "<h2> UTILITY FUNCTIONS"
   ]
  },
  {
   "cell_type": "code",
   "execution_count": null,
   "metadata": {
    "id": "Y0QOEYWYJV8A"
   },
   "outputs": [],
   "source": [
    "def show_dist_plot(target_variable,title):\n",
    "  \"\"\"\n",
    "  this function is used to plot a density distribution graph for the target variable\n",
    "  \"\"\"  \n",
    "  plt.figure(figsize=(15,10))\n",
    "  sns.distplot(target_variable)\n",
    "  plt.title(title)\n",
    "  plt.show()"
   ]
  },
  {
   "cell_type": "code",
   "execution_count": null,
   "metadata": {
    "id": "Aq6woCF5PEPx"
   },
   "outputs": [],
   "source": [
    "def calculate_sentence_length(text):\n",
    "  \"\"\"\n",
    "  This function is used to calculate the length of each sentence\n",
    "  \"\"\"\n",
    "  sentence_lengths = []\n",
    "  for sentence in text:\n",
    "    sentence_lengths.append(len(sentence))\n",
    "  return sentence_lengths   "
   ]
  },
  {
   "cell_type": "code",
   "execution_count": null,
   "metadata": {
    "id": "7Sr7eCTIPctm"
   },
   "outputs": [],
   "source": [
    "def calculate_no_of_words(text):\n",
    "  \"\"\"\n",
    "  This function is used to calculate the number of words in each sentence\n",
    "  \"\"\"  \n",
    "  no_of_words = []\n",
    "  for sentence in text:\n",
    "    no_of_words.append(len(sentence.split()))\n",
    "  return no_of_words  "
   ]
  },
  {
   "cell_type": "code",
   "execution_count": null,
   "metadata": {
    "id": "qFCQCkK1GsXi"
   },
   "outputs": [],
   "source": [
    "def calculate_stop_words(text):\n",
    "  \"\"\"\n",
    "  This function is used to calculate the frequency of each stop word\n",
    "  \"\"\"  \n",
    "  stop_words_dict = dict.fromkeys(stop_words, 0)\n",
    "  for each_sentence in text:\n",
    "    for each_word in each_sentence.split():\n",
    "      try:\n",
    "        stop_words_dict[each_word]+=1\n",
    "      except:\n",
    "        pass  \n",
    "  stop_words_dict = sorted(stop_words_dict.items(),key=lambda x:x[1], reverse=True)[:25]      \n",
    "  return stop_words_dict    "
   ]
  },
  {
   "cell_type": "markdown",
   "metadata": {
    "id": "59sn0oT9P6k0"
   },
   "source": [
    "## **SMS TEXT**"
   ]
  },
  {
   "cell_type": "markdown",
   "metadata": {
    "id": "47S964T0P0Md"
   },
   "source": [
    "<h2> 1. Sentence Length"
   ]
  },
  {
   "cell_type": "code",
   "execution_count": null,
   "metadata": {
    "colab": {
     "base_uri": "https://localhost:8080/",
     "height": 607
    },
    "id": "5wdyaPaAPxjE",
    "outputId": "bbb8f407-a89d-4897-ae50-b8c14d54a485"
   },
   "outputs": [
    {
     "data": {
      "image/png": "[encoded data removed]",
      "text/plain": [
       "<Figure size 1080x720 with 1 Axes>"
      ]
     },
     "metadata": {
      "needs_background": "light",
      "tags": []
     },
     "output_type": "display_data"
    }
   ],
   "source": [
    "# To check the desity distribution for sentence length\n",
    "sentence_lengths = calculate_sentence_length(data['SMS_TEXT'])\n",
    "show_dist_plot(sentence_lengths,\"Length Of Sentence in SMS Text\")"
   ]
  },
  {
   "cell_type": "markdown",
   "metadata": {
    "id": "wV2qk-oDQuPr"
   },
   "source": [
    "Observations - \n",
    "\n",
    "\n",
    "---\n",
    "\n",
    "\n",
    "*   The above plot shows a density distribution for sentence length in sms texts.\n",
    "*   We can see that most number of sms texts have a length of around 30-70.\n",
    "*   Very few sentences have a length between 150 to 170.\n",
    "\n",
    "\n",
    "\n",
    "\n"
   ]
  },
  {
   "cell_type": "markdown",
   "metadata": {
    "id": "20NmoDAy6WNM"
   },
   "source": [
    "# 2. Calculating the Percentile Values for Sentence Length"
   ]
  },
  {
   "cell_type": "code",
   "execution_count": null,
   "metadata": {
    "colab": {
     "base_uri": "https://localhost:8080/"
    },
    "id": "JSeFiVlr6hKT",
    "outputId": "056a727c-d958-47e9-aa21-6a1caf689b95"
   },
   "outputs": [
    {
     "name": "stdout",
     "output_type": "stream",
     "text": [
      "0 th percentile value 2.0\n",
      "10 th percentile value 22.0\n",
      "20 th percentile value 30.0\n",
      "30 th percentile value 38.0\n",
      "40 th percentile value 47.0\n",
      "50 th percentile value 56.0\n",
      "60 th percentile value 66.0\n",
      "70 th percentile value 79.0\n",
      "80 th percentile value 99.0\n",
      "90 th percentile value 125.0\n",
      "100 th percentile value 221.0\n"
     ]
    }
   ],
   "source": [
    "for i in range(0,101,10):\n",
    "  print(i,\"th percentile value\",np.percentile(sentence_lengths,i))"
   ]
  },
  {
   "cell_type": "code",
   "execution_count": null,
   "metadata": {
    "colab": {
     "base_uri": "https://localhost:8080/"
    },
    "id": "T2wIIJNvDU-T",
    "outputId": "141c7eb8-00af-4d6c-b1ca-97f594066625"
   },
   "outputs": [
    {
     "name": "stdout",
     "output_type": "stream",
     "text": [
      "90 th percentile value 125.0\n",
      "91 th percentile value 129.0\n",
      "92 th percentile value 134.0\n",
      "93 th percentile value 138.0\n",
      "94 th percentile value 142.0\n",
      "95 th percentile value 147.0\n",
      "96 th percentile value 151.0\n",
      "97 th percentile value 154.0\n",
      "98 th percentile value 157.0\n",
      "99 th percentile value 159.0\n",
      "100 th percentile value 221.0\n"
     ]
    }
   ],
   "source": [
    "# Printing all the percentile values from 90 to 100\n",
    "for i in range(90,101,1):\n",
    "  print(i,\"th percentile value\",np.percentile(sentence_lengths,i))"
   ]
  },
  {
   "cell_type": "code",
   "execution_count": null,
   "metadata": {
    "colab": {
     "base_uri": "https://localhost:8080/"
    },
    "id": "7Jzk6FTYDgkl",
    "outputId": "54463f4e-8b54-4be8-dd84-4713cba3be3f"
   },
   "outputs": [
    {
     "name": "stdout",
     "output_type": "stream",
     "text": [
      "99.1 th percentile value 159.0\n",
      "99.2 th percentile value 159.00800000000004\n",
      "99.3 th percentile value 160.0\n",
      "99.4 th percentile value 160.0\n",
      "99.5 th percentile value 160.0\n",
      "99.6 th percentile value 160.0\n",
      "99.7 th percentile value 160.0\n",
      "99.8 th percentile value 161.01999999999953\n",
      "99.9 th percentile value 202.0030000000006\n",
      "100 th percentile value 221.0\n"
     ]
    }
   ],
   "source": [
    "# Printing all the percentile values from 99 to 100\n",
    "from numpy import arange\n",
    "for i in [99.1,99.2,99.3,99.4,99.5,99.6,99.7,99.8,99.9,100]:\n",
    "  print(i,\"th percentile value\",np.percentile(sentence_lengths,i))"
   ]
  },
  {
   "cell_type": "markdown",
   "metadata": {
    "id": "RlwhCdqVEane"
   },
   "source": [
    "Observations - \n",
    "\n",
    "\n",
    "---\n",
    "From above the above percentile values we can see that from 99.1 to 99.8 there is a constant incease in the value but from 99.8 to 99.9 there is sudden increase in the value. This can be considered as an outlier for our dataset and thus we could only keep sms texts with sentence length =< 161\n"
   ]
  },
  {
   "cell_type": "code",
   "execution_count": null,
   "metadata": {
    "colab": {
     "base_uri": "https://localhost:8080/"
    },
    "id": "d6dJeUCRE_8i",
    "outputId": "b040e2a5-6fa7-4622-f2e1-8daa8238fefc"
   },
   "outputs": [
    {
     "name": "stdout",
     "output_type": "stream",
     "text": [
      "Total number of SMS texts which have a sentence length of more than 161 and less than 202 -  2\n"
     ]
    }
   ],
   "source": [
    "# Checking the number of sentences in SMS texts which have a sentence of length of more than 161 and less than 202\n",
    "count = 0\n",
    "for index,val in enumerate(sentence_lengths):\n",
    "  if val > 161 and val <= 202:\n",
    "     count += 1\n",
    "\n",
    "print(\"Total number of SMS texts which have a sentence length of more than 161 and less than 202 - \",count)     "
   ]
  },
  {
   "cell_type": "code",
   "execution_count": null,
   "metadata": {
    "colab": {
     "base_uri": "https://localhost:8080/"
    },
    "id": "j9RqDZEgF6Ow",
    "outputId": "ea44d831-18e6-4668-8e22-620eaec106c1"
   },
   "outputs": [
    {
     "name": "stdout",
     "output_type": "stream",
     "text": [
      "Total number of SMS texts which have a sentence length of more than 202 and less than 221 -  2\n"
     ]
    }
   ],
   "source": [
    "# Checking the number of sentences in SMS texts which have a sentence of length of more than 202 and less than 221\n",
    "count = 0\n",
    "for index,val in enumerate(sentence_lengths):\n",
    "  if val > 202 and val <= 221:\n",
    "     count += 1\n",
    "\n",
    "print(\"Total number of SMS texts which have a sentence length of more than 202 and less than 221 - \",count)     "
   ]
  },
  {
   "cell_type": "markdown",
   "metadata": {
    "id": "B9kUuAoyR3EN"
   },
   "source": [
    "<h2> 3. Number of Words "
   ]
  },
  {
   "cell_type": "code",
   "execution_count": null,
   "metadata": {
    "colab": {
     "base_uri": "https://localhost:8080/",
     "height": 607
    },
    "id": "OYpz4s32QU7O",
    "outputId": "816f017f-f5db-41c2-e3d2-b2fb179e421e"
   },
   "outputs": [
    {
     "data": {
      "image/png": "[encoded data removed]",
      "text/plain": [
       "<Figure size 1080x720 with 1 Axes>"
      ]
     },
     "metadata": {
      "needs_background": "light",
      "tags": []
     },
     "output_type": "display_data"
    }
   ],
   "source": [
    "# To check the desity distribution for number of words\n",
    "no_of_words = calculate_no_of_words(data['SMS_TEXT'])\n",
    "show_dist_plot(no_of_words,\"Number Of Words In SMS Text\")"
   ]
  },
  {
   "cell_type": "markdown",
   "metadata": {
    "id": "E8G822XSSLAT"
   },
   "source": [
    "Observations - \n",
    "\n",
    "\n",
    "---\n",
    "\n",
    "\n",
    "*   The above plot shows the density distribution for number of words in SMS texts.\n",
    "*   Most sentences have words between 5 to 15. \n",
    "*   Very less number of sentences have words more than 30.\n",
    "\n",
    "\n",
    "\n",
    "\n"
   ]
  },
  {
   "cell_type": "markdown",
   "metadata": {
    "id": "dhWqR-uLGRJW"
   },
   "source": [
    "# 4. Calculating the Percentile Values for Number Of Words"
   ]
  },
  {
   "cell_type": "code",
   "execution_count": null,
   "metadata": {
    "colab": {
     "base_uri": "https://localhost:8080/"
    },
    "id": "MkjN2eAASIgs",
    "outputId": "4318309f-87f9-4dee-b0a4-9b5f3ca508ad"
   },
   "outputs": [
    {
     "name": "stdout",
     "output_type": "stream",
     "text": [
      "0 th percentile value 1.0\n",
      "10 th percentile value 5.0\n",
      "20 th percentile value 6.0\n",
      "30 th percentile value 8.0\n",
      "40 th percentile value 10.0\n",
      "50 th percentile value 11.0\n",
      "60 th percentile value 13.399999999999864\n",
      "70 th percentile value 16.0\n",
      "80 th percentile value 20.0\n",
      "90 th percentile value 25.0\n",
      "100 th percentile value 49.0\n"
     ]
    }
   ],
   "source": [
    "for i in range(0,101,10):\n",
    "  print(i,\"th percentile value\",np.percentile(no_of_words,i))"
   ]
  },
  {
   "cell_type": "code",
   "execution_count": null,
   "metadata": {
    "colab": {
     "base_uri": "https://localhost:8080/"
    },
    "id": "MHbcitCwGZGd",
    "outputId": "00d72ffc-448f-4c05-c536-1592a866f362"
   },
   "outputs": [
    {
     "name": "stdout",
     "output_type": "stream",
     "text": [
      "90 th percentile value 25.0\n",
      "91 th percentile value 26.0\n",
      "92 th percentile value 27.0\n",
      "93 th percentile value 28.0\n",
      "94 th percentile value 28.0\n",
      "95 th percentile value 29.0\n",
      "96 th percentile value 30.0\n",
      "97 th percentile value 31.0\n",
      "98 th percentile value 32.01999999999998\n",
      "99 th percentile value 34.0\n",
      "100 th percentile value 49.0\n"
     ]
    }
   ],
   "source": [
    "# Printing all the percentile values from 90 to 100\n",
    "for i in range(90,101,1):\n",
    "  print(i,\"th percentile value\",np.percentile(no_of_words,i))"
   ]
  },
  {
   "cell_type": "code",
   "execution_count": null,
   "metadata": {
    "colab": {
     "base_uri": "https://localhost:8080/"
    },
    "id": "DKoWyfC1Gdhs",
    "outputId": "b133aa7b-9683-4f4e-8be4-2b3872487199"
   },
   "outputs": [
    {
     "name": "stdout",
     "output_type": "stream",
     "text": [
      "99.1 th percentile value 35.0\n",
      "99.2 th percentile value 35.0\n",
      "99.3 th percentile value 35.0\n",
      "99.4 th percentile value 35.0\n",
      "99.5 th percentile value 36.0\n",
      "99.6 th percentile value 36.003999999999905\n",
      "99.7 th percentile value 37.0\n",
      "99.8 th percentile value 37.003999999999905\n",
      "99.9 th percentile value 39.001000000000204\n",
      "100 th percentile value 49.0\n"
     ]
    }
   ],
   "source": [
    "# Printing all the percentile values from 99 to 100\n",
    "from numpy import arange\n",
    "for i in [99.1,99.2,99.3,99.4,99.5,99.6,99.7,99.8,99.9,100]:\n",
    "  print(i,\"th percentile value\",np.percentile(no_of_words,i))"
   ]
  },
  {
   "cell_type": "code",
   "execution_count": null,
   "metadata": {
    "colab": {
     "base_uri": "https://localhost:8080/"
    },
    "id": "Kgl48-3R7XK4",
    "outputId": "18e0a68f-0593-4420-d66f-cc3d340519a7"
   },
   "outputs": [
    {
     "name": "stdout",
     "output_type": "stream",
     "text": [
      "Total number of SMS texts which have a sentence length which have a number of words more than 39 -  2\n"
     ]
    }
   ],
   "source": [
    "# Checking the number of sentences in SMS texts which have a number of words more than 39\n",
    "count = 0\n",
    "for index,val in enumerate(no_of_words):\n",
    "  if val > 39:\n",
    "     count = count + 1\n",
    "\n",
    "print(\"Total number of SMS texts which have a sentence length which have a number of words more than 39 - \",count)     "
   ]
  },
  {
   "cell_type": "markdown",
   "metadata": {
    "id": "R345pLIA4P2h"
   },
   "source": [
    "Observations - \n",
    "\n",
    "\n",
    "---\n",
    "\n",
    "\n",
    "\n",
    "*   From the above percentile values we can see that 99th percentile value is 34 and 100th percentile value is 49.\n",
    "*   We further look into percentile values from 99.1 upto 100.\n",
    "We can see that 99.9th value is 39 which means 99.9 % of the sentences in SMS Text have 39 or less than 39 words.\n",
    "*   We can thus ignore the SMS texts/sentences which have words more than 39 in count.\n",
    "\n",
    "\n",
    "\n",
    "\n",
    "\n",
    "   \n",
    "\n",
    "\n",
    "\n"
   ]
  },
  {
   "cell_type": "markdown",
   "metadata": {
    "id": "AjzAPlJy8p7c"
   },
   "source": [
    "# 5. Top 25 frequently occuring stop words in the SMS TEXT"
   ]
  },
  {
   "cell_type": "code",
   "execution_count": null,
   "metadata": {
    "colab": {
     "base_uri": "https://localhost:8080/",
     "height": 893
    },
    "id": "UT05AkG2K3vs",
    "outputId": "9ae062f5-5f2e-41aa-ce56-347151e4f5f5"
   },
   "outputs": [
    {
     "data": {
      "image/png": "[encoded data removed]",
      "text/plain": [
       "<Figure size 720x1080 with 1 Axes>"
      ]
     },
     "metadata": {
      "needs_background": "light",
      "tags": []
     },
     "output_type": "display_data"
    }
   ],
   "source": [
    "import matplotlib.pyplot as plt\n",
    "\n",
    "stop_word_dict = calculate_stop_words(data['SMS_TEXT'])\n",
    "stop_words_list = []\n",
    "counts = []\n",
    "for stop_word,count in stop_word_dict:\n",
    "  stop_words_list.append(stop_word)\n",
    "  counts.append(count)\n",
    "\n",
    "plt.figure(figsize=(10,15))\n",
    "plt.xlabel(\"Stopwords\")\n",
    "plt.ylabel(\"Frequency\")\n",
    "plt.title(\"Frequnecy of Stopwords\")\n",
    "plt.bar(range(len(stop_word_dict)), counts, tick_label=stop_words_list)\n",
    "plt.show()  "
   ]
  },
  {
   "cell_type": "markdown",
   "metadata": {
    "id": "36Ea2NcWNy-f"
   },
   "source": [
    "Obsevations - \n",
    "\n",
    "\n",
    "---\n",
    "\n",
    "\n",
    "*   Among all the stop words \"to\" is the most frquently used stopword.\n",
    "*   Among the top 25 frequently used, \"if\" is least used.\n",
    "\n",
    "\n"
   ]
  },
  {
   "cell_type": "markdown",
   "metadata": {
    "id": "TZvDxlR9NB5q"
   },
   "source": [
    "# **STANDARD ENGLISH TEXT**"
   ]
  },
  {
   "cell_type": "markdown",
   "metadata": {
    "id": "MynpQunkQfqQ"
   },
   "source": [
    "<h2> 1. Sentence Length"
   ]
  },
  {
   "cell_type": "code",
   "execution_count": null,
   "metadata": {
    "colab": {
     "base_uri": "https://localhost:8080/",
     "height": 607
    },
    "id": "AyfsrUgzQfqU",
    "outputId": "67a1cb3f-9d52-468e-954a-d8e4a7eedbf0"
   },
   "outputs": [
    {
     "data": {
      "image/png": "[encoded data removed]",
      "text/plain": [
       "<Figure size 1080x720 with 1 Axes>"
      ]
     },
     "metadata": {
      "needs_background": "light",
      "tags": []
     },
     "output_type": "display_data"
    }
   ],
   "source": [
    "# To check the desity distribution for sentence length\n",
    "sentence_lengths = calculate_sentence_length(data['ENGLISH_TEXT'])\n",
    "show_dist_plot(sentence_lengths,\"Length Of Sentence in Standard English Text\")"
   ]
  },
  {
   "cell_type": "markdown",
   "metadata": {
    "id": "gnxGL08fQfqU"
   },
   "source": [
    "Observations - \n",
    "\n",
    "\n",
    "---\n",
    "\n",
    "\n",
    "*   The above plot shows a density distribution for sentence length in sms texts.\n",
    "*   We can see that most number of standard english texts have a length of around 30-70.\n",
    "*   Very few sentences have a length between 150 to 170.\n",
    "\n",
    "\n",
    "\n",
    "\n"
   ]
  },
  {
   "cell_type": "markdown",
   "metadata": {
    "id": "hCXwByauQfqV"
   },
   "source": [
    "# 2. Calculating the Percentile Values for Sentence Length"
   ]
  },
  {
   "cell_type": "code",
   "execution_count": null,
   "metadata": {
    "colab": {
     "base_uri": "https://localhost:8080/"
    },
    "id": "A1Ir7s_2QfqV",
    "outputId": "ee11a65e-4f0a-47d3-8abf-a70b3a31cb3b"
   },
   "outputs": [
    {
     "name": "stdout",
     "output_type": "stream",
     "text": [
      "0 th percentile value 3.0\n",
      "10 th percentile value 25.0\n",
      "20 th percentile value 33.0\n",
      "30 th percentile value 42.0\n",
      "40 th percentile value 50.0\n",
      "50 th percentile value 61.0\n",
      "60 th percentile value 72.0\n",
      "70 th percentile value 87.0\n",
      "80 th percentile value 108.20000000000005\n",
      "90 th percentile value 140.0\n",
      "100 th percentile value 281.0\n"
     ]
    }
   ],
   "source": [
    "for i in range(0,101,10):\n",
    "  print(i,\"th percentile value\",np.percentile(sentence_lengths,i))"
   ]
  },
  {
   "cell_type": "code",
   "execution_count": null,
   "metadata": {
    "colab": {
     "base_uri": "https://localhost:8080/"
    },
    "id": "yPn7ZP1FQfqV",
    "outputId": "2058c817-5159-45fe-fa86-e494e2d1ecb9"
   },
   "outputs": [
    {
     "name": "stdout",
     "output_type": "stream",
     "text": [
      "90 th percentile value 140.0\n",
      "91 th percentile value 144.0\n",
      "92 th percentile value 149.0\n",
      "93 th percentile value 154.0\n",
      "94 th percentile value 156.0\n",
      "95 th percentile value 162.0\n",
      "96 th percentile value 165.0\n",
      "97 th percentile value 170.0\n",
      "98 th percentile value 179.01999999999998\n",
      "99 th percentile value 190.01\n",
      "100 th percentile value 281.0\n"
     ]
    }
   ],
   "source": [
    "# Printing all the percentile values from 90 to 100\n",
    "for i in range(90,101,1):\n",
    "  print(i,\"th percentile value\",np.percentile(sentence_lengths,i))"
   ]
  },
  {
   "cell_type": "code",
   "execution_count": null,
   "metadata": {
    "colab": {
     "base_uri": "https://localhost:8080/"
    },
    "id": "l5mZNRxHQfqV",
    "outputId": "d549f052-0ed0-4483-e06a-41e2e3252d43"
   },
   "outputs": [
    {
     "name": "stdout",
     "output_type": "stream",
     "text": [
      "99.1 th percentile value 192.0\n",
      "99.2 th percentile value 192.01600000000008\n",
      "99.3 th percentile value 196.00700000000006\n",
      "99.4 th percentile value 197.0\n",
      "99.5 th percentile value 198.00499999999988\n",
      "99.6 th percentile value 200.0\n",
      "99.7 th percentile value 200.0209999999995\n",
      "99.8 th percentile value 215.04999999999882\n",
      "99.9 th percentile value 241.0030000000006\n",
      "100 th percentile value 281.0\n"
     ]
    }
   ],
   "source": [
    "# Printing all the percentile values from 99 to 100\n",
    "from numpy import arange\n",
    "for i in [99.1,99.2,99.3,99.4,99.5,99.6,99.7,99.8,99.9,100]:\n",
    "  print(i,\"th percentile value\",np.percentile(sentence_lengths,i))"
   ]
  },
  {
   "cell_type": "code",
   "execution_count": null,
   "metadata": {
    "colab": {
     "base_uri": "https://localhost:8080/"
    },
    "id": "OMeUsz1_QfqW",
    "outputId": "07e8cc86-b544-4cb5-cb75-c6e05845f1a1"
   },
   "outputs": [
    {
     "name": "stdout",
     "output_type": "stream",
     "text": [
      "Total number of Standard English texts which have a sentence length of more than 200 -  6\n"
     ]
    }
   ],
   "source": [
    "# Checking the number of sentences in Standard English texts which have a sentence of length of more than 200\n",
    "count = 0\n",
    "for index,val in enumerate(sentence_lengths):\n",
    "  if val > 200 :\n",
    "     count += 1\n",
    "\n",
    "print(\"Total number of Standard English texts which have a sentence length of more than 200 - \",count)     "
   ]
  },
  {
   "cell_type": "code",
   "execution_count": null,
   "metadata": {
    "colab": {
     "base_uri": "https://localhost:8080/"
    },
    "id": "Grrsq0nGZ2nW",
    "outputId": "6c8079c5-152b-49a1-85f3-68f525e5c294"
   },
   "outputs": [
    {
     "name": "stdout",
     "output_type": "stream",
     "text": [
      "Total number of Standard English texts which have a sentence length of more than 215 -  4\n"
     ]
    }
   ],
   "source": [
    "# Checking the number of sentences in Standard English texts which have a sentence of length of more than 215\n",
    "count = 0\n",
    "for index,val in enumerate(sentence_lengths):\n",
    "  if val > 215 :\n",
    "     count += 1\n",
    "\n",
    "print(\"Total number of Standard English texts which have a sentence length of more than 215 - \",count)"
   ]
  },
  {
   "cell_type": "code",
   "execution_count": null,
   "metadata": {
    "colab": {
     "base_uri": "https://localhost:8080/"
    },
    "id": "sQYECSBWZ8co",
    "outputId": "17c3f9ac-1314-4e76-8561-7b42564b342b"
   },
   "outputs": [
    {
     "name": "stdout",
     "output_type": "stream",
     "text": [
      "Total number of Standard English texts which have a sentence length of more than 242 -  2\n"
     ]
    }
   ],
   "source": [
    "# Checking the number of sentences in Standard English texts which have a sentence of length of more than 241\n",
    "count = 0\n",
    "for index,val in enumerate(sentence_lengths):\n",
    "  if val > 241 :\n",
    "     count += 1\n",
    "\n",
    "print(\"Total number of Standard English texts which have a sentence length of more than 242 - \",count)"
   ]
  },
  {
   "cell_type": "markdown",
   "metadata": {
    "id": "ca3gB7QRaCu4"
   },
   "source": [
    "Observations - \n",
    "\n",
    "\n",
    "---\n",
    "\n",
    "\n",
    "*   From the above percentile values we can see that the 99.7th percentile value is 200.\n",
    "*   We just have around 6 sentences with sentence length between 200 and 281.\n",
    "*   Thus, we can keep the maximum sentence length as 200 and remove the rest of the sentences before we start preprocessing.\n",
    "\n",
    "\n",
    "\n",
    "\n"
   ]
  },
  {
   "cell_type": "markdown",
   "metadata": {
    "id": "DTvj8pPNQfqW"
   },
   "source": [
    "<h2> 3. Number of Words "
   ]
  },
  {
   "cell_type": "code",
   "execution_count": null,
   "metadata": {
    "colab": {
     "base_uri": "https://localhost:8080/",
     "height": 607
    },
    "id": "mu0lHSOnQfqX",
    "outputId": "bdeb5869-6469-4549-8a2c-2efcff63fdfa"
   },
   "outputs": [
    {
     "data": {
      "image/png": "[encoded data removed]",
      "text/plain": [
       "<Figure size 1080x720 with 1 Axes>"
      ]
     },
     "metadata": {
      "needs_background": "light",
      "tags": []
     },
     "output_type": "display_data"
    }
   ],
   "source": [
    "# To check the desity distribution for number of words\n",
    "no_of_words = calculate_no_of_words(data['ENGLISH_TEXT'])\n",
    "show_dist_plot(no_of_words,\"Number Of Words In Standard English Text\")"
   ]
  },
  {
   "cell_type": "markdown",
   "metadata": {
    "id": "RQbfsvL6QfqX"
   },
   "source": [
    "Observations - \n",
    "\n",
    "\n",
    "---\n",
    "\n",
    "\n",
    "*   The above plot shows the density distribution for number of words in Standard English texts.\n",
    "*   Most sentences have words between 5 to 15. \n",
    "*   Very less number of sentences have words more than 30.\n",
    "\n",
    "\n",
    "\n",
    "\n"
   ]
  },
  {
   "cell_type": "markdown",
   "metadata": {
    "id": "AqOJ_Bh8QfqX"
   },
   "source": [
    "# 4. Calculating the Percentile Values for Number Of Words"
   ]
  },
  {
   "cell_type": "code",
   "execution_count": null,
   "metadata": {
    "colab": {
     "base_uri": "https://localhost:8080/"
    },
    "id": "w_sg1cSGQfqX",
    "outputId": "d83bf665-fb0e-45da-fb84-46ab176079ef"
   },
   "outputs": [
    {
     "name": "stdout",
     "output_type": "stream",
     "text": [
      "0 th percentile value 1.0\n",
      "10 th percentile value 5.0\n",
      "20 th percentile value 7.0\n",
      "30 th percentile value 8.0\n",
      "40 th percentile value 10.0\n",
      "50 th percentile value 12.0\n",
      "60 th percentile value 14.0\n",
      "70 th percentile value 17.0\n",
      "80 th percentile value 22.0\n",
      "90 th percentile value 27.0\n",
      "100 th percentile value 59.0\n"
     ]
    }
   ],
   "source": [
    "for i in range(0,101,10):\n",
    "  print(i,\"th percentile value\",np.percentile(no_of_words,i))"
   ]
  },
  {
   "cell_type": "code",
   "execution_count": null,
   "metadata": {
    "colab": {
     "base_uri": "https://localhost:8080/"
    },
    "id": "qGVZBIJAQfqX",
    "outputId": "e97b6987-e005-49c2-e3eb-4b787b4a3ab7"
   },
   "outputs": [
    {
     "name": "stdout",
     "output_type": "stream",
     "text": [
      "90 th percentile value 27.0\n",
      "91 th percentile value 28.0\n",
      "92 th percentile value 29.0\n",
      "93 th percentile value 29.070000000000164\n",
      "94 th percentile value 31.0\n",
      "95 th percentile value 32.0\n",
      "96 th percentile value 33.0\n",
      "97 th percentile value 34.0\n",
      "98 th percentile value 35.01999999999998\n",
      "99 th percentile value 38.0\n",
      "100 th percentile value 59.0\n"
     ]
    }
   ],
   "source": [
    "# Printing all the percentile values from 90 to 100\n",
    "for i in range(90,101,1):\n",
    "  print(i,\"th percentile value\",np.percentile(no_of_words,i))"
   ]
  },
  {
   "cell_type": "code",
   "execution_count": null,
   "metadata": {
    "colab": {
     "base_uri": "https://localhost:8080/"
    },
    "id": "9ocQU3YdQfqY",
    "outputId": "e1ad3c7f-606a-4729-d331-7f95407bc27e"
   },
   "outputs": [
    {
     "name": "stdout",
     "output_type": "stream",
     "text": [
      "99.1 th percentile value 38.0\n",
      "99.2 th percentile value 38.00800000000004\n",
      "99.3 th percentile value 39.0\n",
      "99.4 th percentile value 39.0\n",
      "99.5 th percentile value 40.0\n",
      "99.6 th percentile value 41.003999999999905\n",
      "99.7 th percentile value 42.00299999999993\n",
      "99.8 th percentile value 43.00599999999986\n",
      "99.9 th percentile value 48.00200000000041\n",
      "100 th percentile value 59.0\n"
     ]
    }
   ],
   "source": [
    "# Printing all the percentile values from 99 to 100\n",
    "from numpy import arange\n",
    "for i in [99.1,99.2,99.3,99.4,99.5,99.6,99.7,99.8,99.9,100]:\n",
    "  print(i,\"th percentile value\",np.percentile(no_of_words,i))"
   ]
  },
  {
   "cell_type": "code",
   "execution_count": null,
   "metadata": {
    "colab": {
     "base_uri": "https://localhost:8080/"
    },
    "id": "1QeFAMUgQfqY",
    "outputId": "77e851ed-165a-4f73-c6f6-52a27af440a6"
   },
   "outputs": [
    {
     "name": "stdout",
     "output_type": "stream",
     "text": [
      "Total number of Standard English texts which have a sentence length which have a number of words more than 48 -  2\n"
     ]
    }
   ],
   "source": [
    "# Checking the number of sentences in Standard English texts which have a number of words more than 48\n",
    "count = 0\n",
    "for index,val in enumerate(no_of_words):\n",
    "  if val > 48:\n",
    "     count = count + 1\n",
    "\n",
    "print(\"Total number of Standard English texts which have a sentence length which have a number of words more than 48 - \",count)     "
   ]
  },
  {
   "cell_type": "markdown",
   "metadata": {
    "id": "IFtQeBtZhI6X"
   },
   "source": [
    "Observations - \n",
    "\n",
    "\n",
    "---\n",
    "\n",
    "\n",
    "*   The 99.9th percentile value is 48 which means most of the standard English sentences have 48 or less than 48 number of words.\n",
    "*   We can thus filter out the data if the standard English sentences have more than 48 words while preprocessing.\n",
    "\n",
    "\n"
   ]
  },
  {
   "cell_type": "markdown",
   "metadata": {
    "id": "ih7_8AF-QfqY"
   },
   "source": [
    "# 5. Top 25 frequently occuring stop words in the Standard English TEXT"
   ]
  },
  {
   "cell_type": "code",
   "execution_count": null,
   "metadata": {
    "colab": {
     "base_uri": "https://localhost:8080/",
     "height": 893
    },
    "id": "sZx3rqBvQfqY",
    "outputId": "96c25703-02a6-4a82-9f8a-42bc3df2c7ab"
   },
   "outputs": [
    {
     "data": {
      "image/png": "[encoded data removed]",
      "text/plain": [
       "<Figure size 720x1080 with 1 Axes>"
      ]
     },
     "metadata": {
      "needs_background": "light",
      "tags": []
     },
     "output_type": "display_data"
    }
   ],
   "source": [
    "import matplotlib.pyplot as plt\n",
    "\n",
    "stop_word_dict = calculate_stop_words(data['ENGLISH_TEXT'])\n",
    "stop_words_list = []\n",
    "counts = []\n",
    "for stop_word,count in stop_word_dict:\n",
    "  stop_words_list.append(stop_word)\n",
    "  counts.append(count)\n",
    "\n",
    "plt.figure(figsize=(10,15))\n",
    "plt.xlabel(\"Stopwords\")\n",
    "plt.ylabel(\"Frequency\")\n",
    "plt.title(\"Frequnecy of Stopwords\")\n",
    "plt.bar(range(len(stop_word_dict)), counts, tick_label=stop_words_list)\n",
    "plt.show()  "
   ]
  },
  {
   "cell_type": "markdown",
   "metadata": {
    "id": "TGRSbxkrQfqY"
   },
   "source": [
    "Obsevations - \n",
    "\n",
    "\n",
    "---\n",
    "\n",
    "\n",
    "*   Among all the stop words \"you\" is the most frquently used stopword.\n",
    "*   Among the top 25 frequently used, \"it\" is least used.\n",
    "\n",
    "\n"
   ]
  }
 ],
 "metadata": {
  "colab": {
   "collapsed_sections": [],
   "name": "EDA_sent_correction.ipynb",
   "provenance": []
  },
  "kernelspec": {
   "display_name": "Python 3",
   "language": "python",
   "name": "python3"
  },
  "language_info": {
   "codemirror_mode": {
    "name": "ipython",
    "version": 3
   },
   "file_extension": ".py",
   "mimetype": "text/x-python",
   "name": "python",
   "nbconvert_exporter": "python",
   "pygments_lexer": "ipython3",
   "version": "3.8.5"
  }
 },
 "nbformat": 4,
 "nbformat_minor": 1
}
